{
 "cells": [
  {
   "cell_type": "code",
   "execution_count": null,
   "id": "a526fd0a-5dbc-406a-9b84-198cc6183e7a",
   "metadata": {
    "id": "a526fd0a-5dbc-406a-9b84-198cc6183e7a"
   },
   "outputs": [],
   "source": [
    "import numpy as np\n",
    "\n",
    "import matplotlib.pyplot as plt\n"
   ]
  },
  {
   "cell_type": "code",
   "execution_count": 1,
   "id": "6cdc44b5-2397-4de6-a354-ade0a72bc97c",
   "metadata": {
    "collapsed": true,
    "jupyter": {
     "outputs_hidden": true
    },
    "tags": []
   },
   "outputs": [
    {
     "name": "stdout",
     "output_type": "stream",
     "text": [
      "Hello World\n"
     ]
    }
   ],
   "source": [
    "print(\"Hello World\")"
   ]
  },
  {
   "cell_type": "markdown",
   "id": "701f69f5-c65b-4d9e-b90b-a0dabde82b04",
   "metadata": {
    "id": "701f69f5-c65b-4d9e-b90b-a0dabde82b04",
    "tags": []
   },
   "source": [
    "# Linear search\n",
    "\n",
    "Linear search is a classical algorithm for searching through an unstructured (unsorted) dataset. As described in the lecture, in linear search, we look at each element in the dataset one-by-one until we find the element we are looking for. In the challenges below, you will implement a linear search algorithm and analyze its complexity."
   ]
  },
  {
   "cell_type": "markdown",
   "id": "io5PACBoaN55",
   "metadata": {
    "id": "io5PACBoaN55"
   },
   "source": []
  },
  {
   "cell_type": "code",
   "execution_count": 20,
   "id": "eab796af-bd3b-40c8-9623-9ac1b0083f26",
   "metadata": {
    "id": "eab796af-bd3b-40c8-9623-9ac1b0083f26"
   },
   "outputs": [
    {
     "name": "stdout",
     "output_type": "stream",
     "text": [
      "Choice 13 found\n"
     ]
    }
   ],
   "source": [
    "# Challenge 1 - Implement a linear search algorithm to find \"Choice 13\" in the list of choices given below. Print the position (index) in the list at which \"Choice 13\" was found.\n",
    "# Use a loop to step through list_numbers, and compare each element with what you are searching for\n",
    "# If the element does not match, move to the next element\n",
    "# If it matches, the search is over\n",
    "list_choices = [\"Choice 0\", \"Choice 1\", \"Choice 2\",\"Choice 3\",\"Choice 4\",\"Choice 5\",\"Choice 6\",\"Choice 7\",\"Choice 8\",\"Choice 9\",\"Choice 10\",\"Choice 11\",\"Choice 12\",\"Choice 13\",\"Choice 14\",\"Choice 15\"]\n",
    "for i in list_choices:\n",
    "    if i == \"Choice 13\":\n",
    "        print(\"Choice 13 found\")\n",
    "        break"
   ]
  },
  {
   "cell_type": "markdown",
   "id": "9c5db392-3b04-47c5-8c36-b83f93e01197",
   "metadata": {
    "id": "9c5db392-3b04-47c5-8c36-b83f93e01197"
   },
   "source": [
    "# Number of queries"
   ]
  },
  {
   "cell_type": "code",
   "execution_count": null,
   "id": "92ae88bc-f629-4805-9e76-bc8a4c0233fe",
   "metadata": {
    "id": "92ae88bc-f629-4805-9e76-bc8a4c0233fe"
   },
   "outputs": [],
   "source": [
    "# Challenge 2 - Use your implementation of linear search to find out how many queries (search or comparison operations) it took to find the Choice 13 in this list.\n"
   ]
  },
  {
   "cell_type": "code",
   "execution_count": 17,
   "id": "bNE6VIAFZ_Mf",
   "metadata": {
    "id": "bNE6VIAFZ_Mf"
   },
   "outputs": [
    {
     "name": "stdout",
     "output_type": "stream",
     "text": [
      "Choice 13 found\n",
      "It took 14 queries.\n"
     ]
    }
   ],
   "source": [
    "list_choices = [\"Choice 0\", \"Choice 1\", \"Choice 2\",\"Choice 3\",\"Choice 4\",\"Choice 5\",\"Choice 6\",\"Choice 7\",\"Choice 8\",\"Choice 9\",\"Choice 10\",\"Choice 11\",\"Choice 12\",\"Choice 13\",\"Choice 14\",\"Choice 15\"]\n",
    "num = 0\n",
    "for i in list_choices:\n",
    "    num = num + 1\n",
    "    if i == \"Choice 13\":\n",
    "        print(\"Choice 13 found\")\n",
    "        print(\"It took \" + str(num) + \" queries.\")\n",
    "        break"
   ]
  },
  {
   "cell_type": "code",
   "execution_count": null,
   "id": "_Wy348SaZ_PL",
   "metadata": {
    "id": "_Wy348SaZ_PL"
   },
   "outputs": [],
   "source": []
  },
  {
   "cell_type": "markdown",
   "id": "da0783b4-d952-490f-8646-e913334e5fe7",
   "metadata": {
    "id": "da0783b4-d952-490f-8646-e913334e5fe7"
   },
   "source": [
    "# Big-O notation"
   ]
  },
  {
   "cell_type": "markdown",
   "id": "02db541a-ed9e-4994-ac39-58ac3937873f",
   "metadata": {
    "id": "02db541a-ed9e-4994-ac39-58ac3937873f"
   },
   "source": [
    "The number of queries it takes to find the location of the search item in a dataset captures the *complexity* of the search algorithm. In general, the complexity of an algorithm is related to the number of operations it takes to execute it, for an input of size $N$.\n",
    "\n",
    "The **Big-O notation** is used to express the computational complexity of algorithms. It is the worst-case number of operations required by the algorithm. \n",
    "\n",
    "What is the worst case for linear search? How many queries would be required in this case?"
   ]
  },
  {
   "cell_type": "markdown",
   "id": "242b0dd1-9eff-4f49-a976-e5cff7f7d089",
   "metadata": {
    "id": "242b0dd1-9eff-4f49-a976-e5cff7f7d089",
    "tags": []
   },
   "source": [
    "# Big-O complexity of linear search\n",
    "Linear search has a complexity of $O(N)$, meaning that in the worst case, $N$ queries are required for an input dataset of size $N$. This is why this search technique is called linear search! Do you know any other search algorithms and their complexities?"
   ]
  },
  {
   "cell_type": "markdown",
   "id": "1773967b-c781-4ea6-bbf5-52e695c74a73",
   "metadata": {
    "id": "1773967b-c781-4ea6-bbf5-52e695c74a73"
   },
   "source": [
    "# Big-O complexity of Grover's search algorithm\n",
    "\n",
    "Grover's search algorithm is a quantum algorithm for unstructured search. We will study more about this algorithm of Day 4. Today, let's look at the Big-O complexity of this algorithm.\n",
    "\n",
    "We saw that the complexity of linear search can be expressed as $O(N)$. Grover's search has a complexity of $O(\\sqrt{N})$, meaning that the optimal number of queries scale as the square root of the size of the dataset. "
   ]
  },
  {
   "cell_type": "markdown",
   "id": "17fee8ca-7eb3-47f4-83f1-d1cc18de3f6c",
   "metadata": {
    "id": "17fee8ca-7eb3-47f4-83f1-d1cc18de3f6c",
    "tags": []
   },
   "source": [
    "# Seeing quantum advantage: Plotting number of queries\n",
    "\n",
    "Let's make a plot of the complexities for linear search and Grover search.\n",
    "\n",
    "For linear search, for a database of size $N$, the worst-case number of queries is given by $N$. This occurs in the case that the element you are looking for is the last element in the database.\n",
    "\n",
    "For Grover search, for a database of size $N$, the worst-case number of queries is approximately given by $\\frac{\\pi}{4}\\sqrt{N}$. We won't worry about how this number is calculated for now - let's focus on how this compares with linear search."
   ]
  },
  {
   "cell_type": "code",
   "execution_count": 28,
   "id": "bc048e3f-8134-4ff2-ba29-bca47cdf99f7",
   "metadata": {
    "id": "bc048e3f-8134-4ff2-ba29-bca47cdf99f7"
   },
   "outputs": [
    {
     "data": {
      "text/plain": [
       "<matplotlib.legend.Legend at 0x7ff1fcb7ae50>"
      ]
     },
     "execution_count": 28,
     "metadata": {},
     "output_type": "execute_result"
    },
    {
     "data": {
      "image/png": "[encoded data removed]",
      "text/plain": [
       "<Figure size 432x288 with 1 Axes>"
      ]
     },
     "metadata": {
      "needs_background": "light"
     },
     "output_type": "display_data"
    }
   ],
   "source": [
    "# Challenge 3- Write code to plot the worst case number of queries for linear and Grover search using the matplotlib library (already imported)\n",
    "# For what size of database does Grover search offer 10 times fewer searches? What about 100 times?\n",
    "\n",
    "import matplotlib.pyplot as plt\n",
    "\n",
    "N = np.linspace(0, 10, 10)\n",
    "\n",
    "plt.plot(N, N, label='Linear\"')\n",
    "plt.plot(N, np.pi/4*np.sqrt(N), label='Grover')\n",
    "plt.legend()"
   ]
  },
  {
   "cell_type": "code",
   "execution_count": null,
   "id": "abb67989-4651-494a-97c0-1d244302c759",
   "metadata": {},
   "outputs": [],
   "source": []
  }
 ],
 "metadata": {
  "colab": {
   "collapsed_sections": [],
   "name": "Day 1 lab notebook.ipynb",
   "provenance": []
  },
  "kernelspec": {
   "display_name": "Qiskit v0.34.1 (ipykernel)",
   "language": "python",
   "name": "python3"
  },
  "language_info": {
   "codemirror_mode": {
    "name": "ipython",
    "version": 3
   },
   "file_extension": ".py",
   "mimetype": "text/x-python",
   "name": "python",
   "nbconvert_exporter": "python",
   "pygments_lexer": "ipython3",
   "version": "3.8.12"
  },
  "widgets": {
   "application/vnd.jupyter.widget-state+json": {
    "state": {},
    "version_major": 2,
    "version_minor": 0
   }
  }
 },
 "nbformat": 4,
 "nbformat_minor": 5
}
